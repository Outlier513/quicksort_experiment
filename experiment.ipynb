{
 "cells": [
  {
   "cell_type": "code",
   "execution_count": 2,
   "metadata": {},
   "outputs": [],
   "source": [
    "import numpy as np\n",
    "import ctypes\n",
    "import threading\n",
    "import queue\n",
    "import time\n",
    "import json\n",
    "from tqdm import tqdm\n",
    "\n",
    "buffer = queue.Queue(10)"
   ]
  },
  {
   "cell_type": "code",
   "execution_count": 3,
   "metadata": {},
   "outputs": [],
   "source": [
    "def producer(epoches, length, distribution=\"random\"):\n",
    "    for i in range(epoches):\n",
    "        if distribution == \"random\":\n",
    "            data = np.random.randint(0, (1 << 31) - 1, length)\n",
    "        elif distribution == \"sorted\":\n",
    "            data = np.arange(0, length)\n",
    "        else:\n",
    "            mu = length / 2\n",
    "            sigma = length / 6\n",
    "            samples = np.random.normal(mu, sigma, length)\n",
    "            samples = np.clip(samples, 0, 100)\n",
    "            data = np.round(samples).astype(int)\n",
    "        buffer.put(data)"
   ]
  },
  {
   "cell_type": "code",
   "execution_count": 4,
   "metadata": {},
   "outputs": [],
   "source": [
    "def record_time(method, distribution, array_range, epoches):\n",
    "    record = {}\n",
    "    for length in array_range:\n",
    "        producer_thread = threading.Thread(\n",
    "            target=producer, args=(epoches, length, distribution)\n",
    "        )\n",
    "        producer_thread.start()\n",
    "        average_time = 0\n",
    "        for _ in tqdm(\n",
    "            range(epoches),\n",
    "            desc=f\"Sorting {distribution} {length:.2e} array by {method[0]}\",\n",
    "        ):\n",
    "            arr = buffer.get()\n",
    "            if method[0] == \"numpy\":\n",
    "                start = time.time()\n",
    "                method[1].sort(arr)\n",
    "                average_time += time.time() - start\n",
    "            else:\n",
    "                array_ptr = arr.ctypes.data_as(ctypes.POINTER(ctypes.c_int32))\n",
    "                start = time.time()\n",
    "                method[1].sort(array_ptr, 0, int(length - 1))\n",
    "                average_time += time.time() - start\n",
    "        average_time /= epoches\n",
    "        record[int(length)] = average_time\n",
    "        with open(f\"data/{method[0]} in {distribution}.json\", \"w\") as f:\n",
    "            json.dump(record, f)"
   ]
  },
  {
   "cell_type": "code",
   "execution_count": 6,
   "metadata": {},
   "outputs": [],
   "source": [
    "methods = {\n",
    "    \"random_quick_sort\": ctypes.CDLL(\"libs/random_quick_sort.so\", winmode=0),\n",
    "    \"3ways_quick_sort\": ctypes.CDLL(\"libs/3ways_quick_sort.so\", winmode=0),\n",
    "    \"numpy\": np,\n",
    "    \"naive_quick_sort\": ctypes.CDLL(\"libs/naive_quick_sort.so\", winmode=0),\n",
    "}\n",
    "distribution_types = [\"random\", \"normal\", \"sorted\"]\n",
    "begin = 5\n",
    "end = 9\n",
    "samples = 20\n",
    "array_range = np.logspace(begin, end, samples * (end - begin) + 1).astype(np.int32)\n",
    "epoches = 10\n",
    "\n",
    "for distribution in distribution_types:\n",
    "     for method in methods.items():\n",
    "         record_time(method, distribution, array_range, epoches)"
   ]
  }
 ],
 "metadata": {
  "kernelspec": {
   "display_name": "Python 3 (ipykernel)",
   "language": "python",
   "name": "python3"
  },
  "language_info": {
   "codemirror_mode": {
    "name": "ipython",
    "version": 3
   },
   "file_extension": ".py",
   "mimetype": "text/x-python",
   "name": "python",
   "nbconvert_exporter": "python",
   "pygments_lexer": "ipython3",
   "version": "3.8.18"
  }
 },
 "nbformat": 4,
 "nbformat_minor": 2
}
