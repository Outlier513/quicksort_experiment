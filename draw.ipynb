{
 "cells": [
  {
   "cell_type": "code",
   "execution_count": null,
   "metadata": {},
   "outputs": [],
   "source": [
    "import matplotlib.pyplot as plt\n",
    "import matplotlib.cm as cm\n",
    "import numpy as np\n",
    "import json\n",
    "length = 100\n",
    "fig, ax = plt.subplots(nrows=1, ncols=3, figsize=(12, 3), dpi=900)\n",
    "x = np.arange(length) + 1\n",
    "mu = length / 2\n",
    "sigma = length / 6\n",
    "samples = np.random.normal(mu, sigma, length)\n",
    "samples = np.clip(samples, 0, 100)\n",
    "\n",
    "y1 = np.random.randint(0, (1 << 31) - 1, length)\n",
    "y2 = np.arange(0, length)\n",
    "y3 = np.round(samples).astype(int)\n",
    "\n",
    "ax[0].plot(x, y1, color=\"C0\")\n",
    "ax[0].set_title(\"Random Sequence\", y=-0.2)\n",
    "ax[1].plot(x, y2, color=\"C1\")\n",
    "ax[1].set_title(\"Incrementally ordered sequence\", y=-0.2)\n",
    "ax[2].plot(x, y3, color=\"C2\")\n",
    "ax[2].set_title(\"Normally distributed disordered sequences\", y=-0.2)\n",
    "fig.savefig(\"img/distribution.png\", bbox_inches=\"tight\")"
   ]
  },
  {
   "cell_type": "code",
   "execution_count": null,
   "metadata": {},
   "outputs": [],
   "source": [
    "def draw(methods, distribution, ax):\n",
    "    data = []\n",
    "    for method in methods:\n",
    "        with open(f\"data/{method} in {distribution}.json\", \"r\") as f:\n",
    "            data.append(json.loads(f.read()))\n",
    "    x_data = [list(d.keys()) for d in data]\n",
    "    y_data = [list(d.values()) for d in data]\n",
    "    linestyles = [\"solid\", \"dashed\", \"dashdot\", \"dotted\"]\n",
    "    for i, t in enumerate(zip(x_data, y_data)):\n",
    "        x, y = t\n",
    "        x = [int(i) for i in x]\n",
    "        ax.plot(x, y, label=methods[i], linestyle=linestyles[i])\n",
    "    ax.set_xscale(\"log\")\n",
    "    ax.set_yscale(\"log\")\n",
    "    ax.set_xlabel(\"Sequence length\")\n",
    "    ax.set_ylabel(\"Time(s)\")\n",
    "    ax.set_title(distribution)"
   ]
  },
  {
   "cell_type": "code",
   "execution_count": null,
   "metadata": {},
   "outputs": [],
   "source": [
    "methods = [\n",
    "    \"naive_quick_sort\",\n",
    "    \"random_quick_sort\",\n",
    "    \"3ways_quick_sort\",\n",
    "    \"numpy\",\n",
    "]\n",
    "distributions = [\n",
    "    \"random\",\n",
    "    \"sorted\",\n",
    "    \"normal\",\n",
    "]\n",
    "fig, ax = plt.subplots(1, 3, figsize=(15, 4), dpi=300)\n",
    "for i, distribution in enumerate(distributions):\n",
    "    draw(methods, distribution, ax[i])\n",
    "lines, labels = ax[-1].get_legend_handles_labels()\n",
    "fig.legend( lines, labels,           \n",
    "            bbox_to_anchor=(0.52, -0.1),\n",
    "            loc =\"lower center\",\n",
    "            ncol=4, framealpha=1\n",
    ")\n",
    "plt.tight_layout()\n",
    "fig.savefig(\"img/compare1.png\", bbox_inches='tight')\n"
   ]
  },
  {
   "cell_type": "code",
   "execution_count": null,
   "metadata": {},
   "outputs": [],
   "source": [
    "def draw2(method, distributions, ax):\n",
    "    data = []\n",
    "    linestyles = [\n",
    "        \"solid\",\n",
    "        \"dashed\",\n",
    "        \"dashdot\",\n",
    "    ]\n",
    "    for distribution in distributions:\n",
    "        with open(f\"data/{method} in {distribution}.json\", \"r\") as f:\n",
    "            data.append(json.loads(f.read()))\n",
    "    x_data = [list(d.keys()) for d in data]\n",
    "    y_data = [list(d.values()) for d in data]\n",
    "    for i, t in enumerate(zip(x_data, y_data)):\n",
    "        x, y = t\n",
    "        x = [int(i) for i in x]\n",
    "        ax.plot(x, y, label=distributions[i], linestyle=linestyles[i])\n",
    "    ax.set_xscale(\"log\")\n",
    "    ax.set_yscale(\"log\")\n",
    "    ax.set_xlabel(\"Sequence length\")\n",
    "    ax.set_ylabel(\"Time(s)\")\n",
    "    ax.set_title(method)"
   ]
  },
  {
   "cell_type": "code",
   "execution_count": null,
   "metadata": {},
   "outputs": [],
   "source": [
    "fig, ax = plt.subplots(2, 2, figsize=(10, 10), dpi=300)\n",
    "for i in range(2):\n",
    "    for j in range(2):\n",
    "        draw2(methods[i * 2 + j], distributions, ax[i][j])\n",
    "lines, labels = ax[-1][-1].get_legend_handles_labels()\n",
    "fig.legend( lines, labels,           \n",
    "            bbox_to_anchor=(0.52, -0.05),\n",
    "            loc =\"lower center\",\n",
    "            ncol=4, framealpha=1\n",
    ")\n",
    "plt.tight_layout()\n",
    "fig.savefig(\"img/compare2.png\", bbox_inches='tight')"
   ]
  }
 ],
 "metadata": {
  "kernelspec": {
   "display_name": "torch",
   "language": "python",
   "name": "python3"
  },
  "language_info": {
   "codemirror_mode": {
    "name": "ipython",
    "version": 3
   },
   "file_extension": ".py",
   "mimetype": "text/x-python",
   "name": "python",
   "nbconvert_exporter": "python",
   "pygments_lexer": "ipython3",
   "version": "3.8.18"
  }
 },
 "nbformat": 4,
 "nbformat_minor": 2
}
